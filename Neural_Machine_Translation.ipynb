{
  "nbformat": 4,
  "nbformat_minor": 0,
  "metadata": {
    "kernelspec": {
      "display_name": "Python 3",
      "language": "python",
      "name": "python3"
    },
    "language_info": {
      "codemirror_mode": {
        "name": "ipython",
        "version": 3
      },
      "file_extension": ".py",
      "mimetype": "text/x-python",
      "name": "python",
      "nbconvert_exporter": "python",
      "pygments_lexer": "ipython3",
      "version": "3.6.6"
    },
    "colab": {
      "name": "Neural Machine Translation.ipynb",
      "provenance": [],
      "collapsed_sections": [],
      "toc_visible": true
    },
    "accelerator": "GPU"
  },
  "cells": [
    {
      "cell_type": "markdown",
      "metadata": {
        "id": "eXC6m1tkvfK0"
      },
      "source": [
        "\r\n",
        "\r\n",
        "---\r\n",
        "\r\n",
        "\r\n",
        "\r\n",
        "**IMPORTS**\r\n",
        "\r\n",
        "\r\n",
        "---\r\n",
        "\r\n"
      ]
    },
    {
      "cell_type": "code",
      "metadata": {
        "id": "lsD6ECM2VjZk"
      },
      "source": [
        "import numpy as np\n",
        "import matplotlib.pyplot as plt\n",
        "from keras.optimizers import Adam\n",
        "from keras.models import Sequential\n",
        "from keras.preprocessing.text import Tokenizer\n",
        "from keras.preprocessing.sequence import pad_sequences\n",
        "from keras.losses import sparse_categorical_crossentropy\n",
        "from keras.layers import Dense, RepeatVector, TimeDistributed, LSTM, Embedding, Dropout, Bidirectional"
      ],
      "execution_count": 1,
      "outputs": []
    },
    {
      "cell_type": "markdown",
      "metadata": {
        "id": "8znGMXCgwQGa"
      },
      "source": [
        "\r\n",
        "\r\n",
        "---\r\n",
        "**LOADING DATASET**\r\n",
        "\r\n",
        "---\r\n",
        "\r\n",
        "\r\n",
        "\r\n"
      ]
    },
    {
      "cell_type": "code",
      "metadata": {
        "id": "fLXKWXfKZqBh",
        "colab": {
          "base_uri": "https://localhost:8080/"
        },
        "outputId": "23bc4cd2-9c82-4a09-c700-10afee8d662f"
      },
      "source": [
        "from google.colab import drive\n",
        "drive.mount('/content/drive')\n",
        "\n",
        "!cp ./drive/MyDrive/en-ru.zip ./\n",
        "!unzip en-ru.zip"
      ],
      "execution_count": 2,
      "outputs": [
        {
          "output_type": "stream",
          "text": [
            "Mounted at /content/drive\n",
            "Archive:  en-ru.zip\n",
            "  inflating: en-ru.txt               \n"
          ],
          "name": "stdout"
        }
      ]
    },
    {
      "cell_type": "markdown",
      "metadata": {
        "id": "vvWCOiW8vbNq"
      },
      "source": [
        "\r\n",
        "\r\n",
        "---\r\n",
        "**READING DATA**\r\n",
        "\r\n",
        "\r\n",
        "---\r\n",
        "\r\n",
        "\r\n",
        "\r\n"
      ]
    },
    {
      "cell_type": "code",
      "metadata": {
        "id": "xjd7_5yuVjaN"
      },
      "source": [
        "def read_text(filename):\n",
        "    with open (filename, 'r') as f:\n",
        "        text = f.read()\n",
        "    return text.split('\\n')"
      ],
      "execution_count": 3,
      "outputs": []
    },
    {
      "cell_type": "code",
      "metadata": {
        "id": "E-2-67j-phEo"
      },
      "source": [
        "text = read_text(\"en-ru.txt\")\n",
        "text = text[1:20001]\n",
        "\n",
        "eng, rus = [], []\n",
        "for i in text:\n",
        "    __eng, __rus = i.split('\\t')\n",
        "    eng += [__eng]\n",
        "    rus += [__rus]\n",
        "    "
      ],
      "execution_count": 4,
      "outputs": []
    },
    {
      "cell_type": "markdown",
      "metadata": {
        "id": "VMfyfoGIvj6l"
      },
      "source": [
        "\r\n",
        "\r\n",
        "---\r\n",
        "\r\n",
        "\r\n",
        "**PRE - PROCESSING**\r\n",
        "\r\n",
        "\r\n",
        "\r\n",
        "---\r\n",
        "\r\n"
      ]
    },
    {
      "cell_type": "code",
      "metadata": {
        "id": "SQzNa2U8c7e0"
      },
      "source": [
        "def tokenize(data):\n",
        "    data_tokenizer = Tokenizer(char_level = False)\n",
        "    data_tokenizer.fit_on_texts(data)\n",
        "    return data_tokenizer.texts_to_sequences(data), data_tokenizer\n",
        "\n",
        "def pad(data, length=None):\n",
        "    if length is None:\n",
        "        length = max([len(i) for i in data])\n",
        "    return pad_sequences(data, maxlen = length, padding = 'post')\n",
        "\n",
        "def preprocess(data):\n",
        "    prep_data, data_tokenizer = tokenize(data)\n",
        "    prep_data = pad(prep_data)\n",
        "\n",
        "    return prep_data, data_tokenizer\n",
        "\n",
        "def idx2text(idx, tokenizer):\n",
        "    idx2word = {id: word for word, id in tokenizer.word_index.items()}\n",
        "    idx2word[0] = ''\n",
        "\n",
        "    return ' '.join([idx2word[i] for i in np.argmax(idx, 1)])"
      ],
      "execution_count": 5,
      "outputs": []
    },
    {
      "cell_type": "code",
      "metadata": {
        "id": "54wGlORRdgde"
      },
      "source": [
        "eng_s, eng_tok = preprocess(eng)\n",
        "rus_s, rus_tok = preprocess(rus)\n",
        "eng_s = eng_s.reshape(*eng_s.shape, 1)"
      ],
      "execution_count": 6,
      "outputs": []
    },
    {
      "cell_type": "markdown",
      "metadata": {
        "id": "bNg3vphGvpv4"
      },
      "source": [
        "\r\n",
        "\r\n",
        "---\r\n",
        "\r\n",
        "\r\n",
        "**MODEL CREATION**\r\n",
        "\r\n",
        "\r\n",
        "\r\n",
        "---\r\n",
        "\r\n"
      ]
    },
    {
      "cell_type": "code",
      "metadata": {
        "id": "Z0pimiQReNtV"
      },
      "source": [
        "def model(input_shape, output_length, rus_vs):\n",
        "  \n",
        "    model = Sequential()\n",
        "\n",
        "    model.add(Bidirectional(\n",
        "        LSTM(128, return_sequences = True, dropout = 0.25), \n",
        "                           input_shape = input_shape[1:]))\n",
        "    model.add(LSTM(128, return_sequences=False))\n",
        "    model.add(Dropout(0.25))\n",
        "\n",
        "    model.add(RepeatVector(output_length))\n",
        "\n",
        "    model.add(LSTM(128, return_sequences=True))\n",
        "    model.add(Dropout(0.25))\n",
        "\n",
        "    model.add(TimeDistributed(Dense(rus_vs, activation='softmax')))\n",
        "    \n",
        "    model.compile(loss=sparse_categorical_crossentropy, \n",
        "                 optimizer=Adam(1e-3), metrics=['accuracy'])\n",
        "    \n",
        "    return model"
      ],
      "execution_count": 7,
      "outputs": []
    },
    {
      "cell_type": "markdown",
      "metadata": {
        "id": "0eL4GU9JwzJt"
      },
      "source": [
        "\r\n",
        "\r\n",
        "---\r\n",
        "\r\n",
        "\r\n",
        "**TRAINING**\r\n",
        "\r\n",
        "\r\n",
        "\r\n",
        "---\r\n",
        "\r\n"
      ]
    },
    {
      "cell_type": "code",
      "metadata": {
        "colab": {
          "base_uri": "https://localhost:8080/"
        },
        "id": "Qm3F_lV-eRJS",
        "outputId": "d2c58514-c6d8-4751-99bf-39837522411f"
      },
      "source": [
        "_x = pad(rus_s, eng_s.shape[1])\n",
        "_x = _x.reshape((-1, eng_s.shape[-2], 1))\n",
        "\n",
        "model = model(_x.shape, eng_s.shape[1], len(eng_tok.word_index))\n",
        "model.summary()\n",
        "\n",
        "hist = model.fit(_x, eng_s, batch_size=35, epochs=10, validation_split=0.2)"
      ],
      "execution_count": 8,
      "outputs": [
        {
          "output_type": "stream",
          "text": [
            "Model: \"sequential\"\n",
            "_________________________________________________________________\n",
            "Layer (type)                 Output Shape              Param #   \n",
            "=================================================================\n",
            "bidirectional (Bidirectional (None, 192, 256)          133120    \n",
            "_________________________________________________________________\n",
            "lstm_1 (LSTM)                (None, 128)               197120    \n",
            "_________________________________________________________________\n",
            "dropout (Dropout)            (None, 128)               0         \n",
            "_________________________________________________________________\n",
            "repeat_vector (RepeatVector) (None, 192, 128)          0         \n",
            "_________________________________________________________________\n",
            "lstm_2 (LSTM)                (None, 192, 128)          131584    \n",
            "_________________________________________________________________\n",
            "dropout_1 (Dropout)          (None, 192, 128)          0         \n",
            "_________________________________________________________________\n",
            "time_distributed (TimeDistri (None, 192, 37205)        4799445   \n",
            "=================================================================\n",
            "Total params: 5,261,269\n",
            "Trainable params: 5,261,269\n",
            "Non-trainable params: 0\n",
            "_________________________________________________________________\n",
            "Epoch 1/10\n",
            "458/458 [==============================] - 216s 396ms/step - loss: 3.0129 - accuracy: 0.8999 - val_loss: nan - val_accuracy: 0.9016\n",
            "Epoch 2/10\n",
            "458/458 [==============================] - 180s 393ms/step - loss: 0.9365 - accuracy: 0.9001 - val_loss: nan - val_accuracy: 0.9023\n",
            "Epoch 3/10\n",
            "458/458 [==============================] - 180s 393ms/step - loss: 0.9475 - accuracy: 0.8990 - val_loss: nan - val_accuracy: 0.9024\n",
            "Epoch 4/10\n",
            "458/458 [==============================] - 180s 393ms/step - loss: 0.9431 - accuracy: 0.8989 - val_loss: nan - val_accuracy: 0.9024\n",
            "Epoch 5/10\n",
            "458/458 [==============================] - 180s 393ms/step - loss: 0.9319 - accuracy: 0.9002 - val_loss: nan - val_accuracy: 0.9023\n",
            "Epoch 6/10\n",
            "458/458 [==============================] - 180s 393ms/step - loss: 0.9362 - accuracy: 0.8992 - val_loss: nan - val_accuracy: 0.9024\n",
            "Epoch 7/10\n",
            "458/458 [==============================] - 180s 393ms/step - loss: 0.9284 - accuracy: 0.8998 - val_loss: nan - val_accuracy: 0.9024\n",
            "Epoch 8/10\n",
            "458/458 [==============================] - 180s 392ms/step - loss: 0.9450 - accuracy: 0.8982 - val_loss: nan - val_accuracy: 0.9024\n",
            "Epoch 9/10\n",
            "458/458 [==============================] - 180s 392ms/step - loss: 0.9178 - accuracy: 0.9007 - val_loss: nan - val_accuracy: 0.9024\n",
            "Epoch 10/10\n",
            "458/458 [==============================] - 179s 392ms/step - loss: 0.9005 - accuracy: 0.9013 - val_loss: nan - val_accuracy: 0.9044\n"
          ],
          "name": "stdout"
        }
      ]
    },
    {
      "cell_type": "markdown",
      "metadata": {
        "id": "B0Bd2Doew1ai"
      },
      "source": [
        "\r\n",
        "\r\n",
        "---\r\n",
        "\r\n",
        "\r\n",
        "**PLOTS**\r\n",
        "\r\n",
        "\r\n",
        "\r\n",
        "---\r\n",
        "\r\n"
      ]
    },
    {
      "cell_type": "code",
      "metadata": {
        "colab": {
          "base_uri": "https://localhost:8080/",
          "height": 265
        },
        "id": "BpmJFPAudgJb",
        "outputId": "4490f133-6b22-4077-d187-5621bcaa3107"
      },
      "source": [
        "plt.plot(hist.history['loss'])\n",
        "plt.plot(hist.history['accuracy'])\n",
        "plt.legend(['loss','accuracy'])\n",
        "plt.show()"
      ],
      "execution_count": 9,
      "outputs": [
        {
          "output_type": "display_data",
          "data": {
            "image/png": "[encoded data removed]",
            "text/plain": [
              "<Figure size 432x288 with 1 Axes>"
            ]
          },
          "metadata": {
            "tags": [],
            "needs_background": "light"
          }
        }
      ]
    },
    {
      "cell_type": "markdown",
      "metadata": {
        "id": "tzh5l5YKvt1B"
      },
      "source": [
        "\r\n",
        "\r\n",
        "---\r\n",
        "\r\n",
        "\r\n",
        "**EVALUATION**\r\n",
        "\r\n",
        "\r\n",
        "\r\n",
        "---\r\n",
        "\r\n"
      ]
    },
    {
      "cell_type": "code",
      "metadata": {
        "colab": {
          "base_uri": "https://localhost:8080/"
        },
        "id": "Hq4UN9Ut4wkP",
        "outputId": "d220e9ee-33cc-4125-ccb4-c4c63c164f51"
      },
      "source": [
        "test = read_text('eval-ru-100.txt')\n",
        "test_s, test_tk = preprocess(test)\n",
        "test_x = pad(test_s, rus_s.shape[-2])\n",
        "test_x = test_x.reshape((-1, rus_s.shape[-2], 1))\n",
        "\n",
        "res = []\n",
        "for i in range(len(test_x)):\n",
        "    _r = idx2text(model.predict(test_x[i:i+1])[0], eng_tok)\n",
        "    res += [_r]\n",
        "    print(_r)\n",
        "\n",
        "with open('answer.txt', 'w') as f:\n",
        "    f.write('\\n'.join(res)) "
      ],
      "execution_count": 11,
      "outputs": [
        {
          "output_type": "stream",
          "text": [
            "WARNING:tensorflow:Model was constructed with shape (None, 192, 1) for input KerasTensor(type_spec=TensorSpec(shape=(None, 192, 1), dtype=tf.float32, name='bidirectional_input'), name='bidirectional_input', description=\"created by layer 'bidirectional_input'\"), but it was called on an input with incompatible shape (None, 20000, 1).\n",
            "the                                                                                                                                                                                               \n",
            "the                                                                                                                                                                                               \n",
            "the                                                                                                                                                                                               \n",
            "the                                                                                                                                                                                               \n",
            "the                                                                                                                                                                                               \n",
            "the                                                                                                                                                                                               \n",
            "the                                                                                                                                                                                               \n",
            "the                                                                                                                                                                                               \n",
            "the                                                                                                                                                                                               \n",
            "the                                                                                                                                                                                               \n",
            "the                                                                                                                                                                                               \n",
            "the                                                                                                                                                                                               \n",
            "the                                                                                                                                                                                               \n",
            "the                                                                                                                                                                                               \n",
            "the                                                                                                                                                                                               \n",
            "the                                                                                                                                                                                               \n",
            "the                                                                                                                                                                                               \n",
            "the                                                                                                                                                                                               \n",
            "the                                                                                                                                                                                               \n",
            "the                                                                                                                                                                                               \n",
            "the                                                                                                                                                                                               \n",
            "the                                                                                                                                                                                               \n",
            "the                                                                                                                                                                                               \n",
            "the                                                                                                                                                                                               \n",
            "the                                                                                                                                                                                               \n",
            "the                                                                                                                                                                                               \n",
            "the                                                                                                                                                                                               \n",
            "the                                                                                                                                                                                               \n",
            "the                                                                                                                                                                                               \n",
            "the                                                                                                                                                                                               \n",
            "the                                                                                                                                                                                               \n",
            "the                                                                                                                                                                                               \n",
            "the                                                                                                                                                                                               \n",
            "the                                                                                                                                                                                               \n",
            "the                                                                                                                                                                                               \n",
            "the                                                                                                                                                                                               \n",
            "the                                                                                                                                                                                               \n",
            "the                                                                                                                                                                                               \n",
            "the                                                                                                                                                                                               \n",
            "the                                                                                                                                                                                               \n",
            "the                                                                                                                                                                                               \n",
            "the                                                                                                                                                                                               \n",
            "the                                                                                                                                                                                               \n",
            "the                                                                                                                                                                                               \n",
            "the                                                                                                                                                                                               \n",
            "the                                                                                                                                                                                               \n",
            "the                                                                                                                                                                                               \n",
            "the                                                                                                                                                                                               \n",
            "the                                                                                                                                                                                               \n",
            "the                                                                                                                                                                                               \n",
            "the                                                                                                                                                                                               \n",
            "the                                                                                                                                                                                               \n",
            "the                                                                                                                                                                                               \n",
            "the                                                                                                                                                                                               \n",
            "the                                                                                                                                                                                               \n",
            "the                                                                                                                                                                                               \n",
            "the                                                                                                                                                                                               \n",
            "the                                                                                                                                                                                               \n",
            "the                                                                                                                                                                                               \n",
            "the                                                                                                                                                                                               \n",
            "the                                                                                                                                                                                               \n",
            "the                                                                                                                                                                                               \n",
            "the                                                                                                                                                                                               \n",
            "the                                                                                                                                                                                               \n",
            "the                                                                                                                                                                                               \n",
            "the                                                                                                                                                                                               \n",
            "the                                                                                                                                                                                               \n",
            "the                                                                                                                                                                                               \n",
            "the                                                                                                                                                                                               \n",
            "the                                                                                                                                                                                               \n",
            "the                                                                                                                                                                                               \n",
            "the                                                                                                                                                                                               \n",
            "the                                                                                                                                                                                               \n",
            "the                                                                                                                                                                                               \n",
            "the                                                                                                                                                                                               \n",
            "the                                                                                                                                                                                               \n",
            "the                                                                                                                                                                                               \n",
            "the                                                                                                                                                                                               \n",
            "the                                                                                                                                                                                               \n",
            "the                                                                                                                                                                                               \n",
            "the                                                                                                                                                                                               \n",
            "the                                                                                                                                                                                               \n",
            "the                                                                                                                                                                                               \n",
            "the                                                                                                                                                                                               \n",
            "the                                                                                                                                                                                               \n",
            "the                                                                                                                                                                                               \n",
            "the                                                                                                                                                                                               \n",
            "the                                                                                                                                                                                               \n",
            "the                                                                                                                                                                                               \n",
            "the                                                                                                                                                                                               \n",
            "the                                                                                                                                                                                               \n",
            "the                                                                                                                                                                                               \n",
            "the                                                                                                                                                                                               \n",
            "the                                                                                                                                                                                               \n",
            "the                                                                                                                                                                                               \n",
            "the                                                                                                                                                                                               \n",
            "the                                                                                                                                                                                               \n",
            "the                                                                                                                                                                                               \n",
            "the                                                                                                                                                                                               \n",
            "the                                                                                                                                                                                               \n"
          ],
          "name": "stdout"
        }
      ]
    },
    {
      "cell_type": "code",
      "metadata": {
        "id": "fbIB1rV31n9Y"
      },
      "source": [
        "model.save('model.h5')"
      ],
      "execution_count": 12,
      "outputs": []
    }
  ]
}